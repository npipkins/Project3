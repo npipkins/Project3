{
 "cells": [
  {
   "cell_type": "code",
   "execution_count": 30,
   "metadata": {},
   "outputs": [],
   "source": [
    "import numpy as np\n",
    "import matplotlib.pyplot as plt\n",
    "import pandas as pd"
   ]
  },
  {
   "cell_type": "code",
   "execution_count": 31,
   "metadata": {},
   "outputs": [
    {
     "data": {
      "text/html": [
       "<div>\n",
       "<style scoped>\n",
       "    .dataframe tbody tr th:only-of-type {\n",
       "        vertical-align: middle;\n",
       "    }\n",
       "\n",
       "    .dataframe tbody tr th {\n",
       "        vertical-align: top;\n",
       "    }\n",
       "\n",
       "    .dataframe thead th {\n",
       "        text-align: right;\n",
       "    }\n",
       "</style>\n",
       "<table border=\"1\" class=\"dataframe\">\n",
       "  <thead>\n",
       "    <tr style=\"text-align: right;\">\n",
       "      <th></th>\n",
       "      <th>Date</th>\n",
       "      <th>Year</th>\n",
       "      <th>Temp</th>\n",
       "      <th>ToBottom</th>\n",
       "      <th>ToBottomNum</th>\n",
       "      <th>TowLength</th>\n",
       "      <th>VolConc</th>\n",
       "      <th>VolSubSample</th>\n",
       "      <th>TotalCount</th>\n",
       "      <th>Diameter</th>\n",
       "      <th>Density</th>\n",
       "    </tr>\n",
       "  </thead>\n",
       "  <tbody>\n",
       "    <tr>\n",
       "      <th>0</th>\n",
       "      <td>6/2/94</td>\n",
       "      <td>1994</td>\n",
       "      <td>15.6</td>\n",
       "      <td>False</td>\n",
       "      <td>0</td>\n",
       "      <td>6.0</td>\n",
       "      <td>50.0</td>\n",
       "      <td>50.0</td>\n",
       "      <td>1</td>\n",
       "      <td>13</td>\n",
       "      <td>13</td>\n",
       "    </tr>\n",
       "    <tr>\n",
       "      <th>1</th>\n",
       "      <td>6/2/94</td>\n",
       "      <td>1994</td>\n",
       "      <td>18.0</td>\n",
       "      <td>False</td>\n",
       "      <td>0</td>\n",
       "      <td>6.0</td>\n",
       "      <td>50.0</td>\n",
       "      <td>50.0</td>\n",
       "      <td>3</td>\n",
       "      <td>13</td>\n",
       "      <td>38</td>\n",
       "    </tr>\n",
       "    <tr>\n",
       "      <th>2</th>\n",
       "      <td>6/7/94</td>\n",
       "      <td>1994</td>\n",
       "      <td>16.8</td>\n",
       "      <td>False</td>\n",
       "      <td>0</td>\n",
       "      <td>9.0</td>\n",
       "      <td>50.0</td>\n",
       "      <td>50.0</td>\n",
       "      <td>3</td>\n",
       "      <td>13</td>\n",
       "      <td>25</td>\n",
       "    </tr>\n",
       "    <tr>\n",
       "      <th>3</th>\n",
       "      <td>6/7/94</td>\n",
       "      <td>1994</td>\n",
       "      <td>19.1</td>\n",
       "      <td>False</td>\n",
       "      <td>0</td>\n",
       "      <td>13.0</td>\n",
       "      <td>50.0</td>\n",
       "      <td>50.0</td>\n",
       "      <td>3</td>\n",
       "      <td>13</td>\n",
       "      <td>17</td>\n",
       "    </tr>\n",
       "    <tr>\n",
       "      <th>4</th>\n",
       "      <td>6/15/94</td>\n",
       "      <td>1994</td>\n",
       "      <td>24.2</td>\n",
       "      <td>False</td>\n",
       "      <td>0</td>\n",
       "      <td>5.0</td>\n",
       "      <td>50.0</td>\n",
       "      <td>50.0</td>\n",
       "      <td>12</td>\n",
       "      <td>13</td>\n",
       "      <td>181</td>\n",
       "    </tr>\n",
       "    <tr>\n",
       "      <th>...</th>\n",
       "      <td>...</td>\n",
       "      <td>...</td>\n",
       "      <td>...</td>\n",
       "      <td>...</td>\n",
       "      <td>...</td>\n",
       "      <td>...</td>\n",
       "      <td>...</td>\n",
       "      <td>...</td>\n",
       "      <td>...</td>\n",
       "      <td>...</td>\n",
       "      <td>...</td>\n",
       "    </tr>\n",
       "    <tr>\n",
       "      <th>1941</th>\n",
       "      <td>9/14/12</td>\n",
       "      <td>2012</td>\n",
       "      <td>19.0</td>\n",
       "      <td>False</td>\n",
       "      <td>0</td>\n",
       "      <td>2.0</td>\n",
       "      <td>98.0</td>\n",
       "      <td>3.0</td>\n",
       "      <td>3</td>\n",
       "      <td>13</td>\n",
       "      <td>738</td>\n",
       "    </tr>\n",
       "    <tr>\n",
       "      <th>1942</th>\n",
       "      <td>9/22/12</td>\n",
       "      <td>2012</td>\n",
       "      <td>19.9</td>\n",
       "      <td>False</td>\n",
       "      <td>0</td>\n",
       "      <td>10.0</td>\n",
       "      <td>49.0</td>\n",
       "      <td>3.0</td>\n",
       "      <td>8</td>\n",
       "      <td>13</td>\n",
       "      <td>197</td>\n",
       "    </tr>\n",
       "    <tr>\n",
       "      <th>1943</th>\n",
       "      <td>6/21/13</td>\n",
       "      <td>2013</td>\n",
       "      <td>16.6</td>\n",
       "      <td>False</td>\n",
       "      <td>0</td>\n",
       "      <td>10.0</td>\n",
       "      <td>46.0</td>\n",
       "      <td>3.0</td>\n",
       "      <td>14</td>\n",
       "      <td>13</td>\n",
       "      <td>323</td>\n",
       "    </tr>\n",
       "    <tr>\n",
       "      <th>1944</th>\n",
       "      <td>6/21/13</td>\n",
       "      <td>2013</td>\n",
       "      <td>16.4</td>\n",
       "      <td>False</td>\n",
       "      <td>0</td>\n",
       "      <td>10.0</td>\n",
       "      <td>47.0</td>\n",
       "      <td>3.0</td>\n",
       "      <td>71</td>\n",
       "      <td>13</td>\n",
       "      <td>1676</td>\n",
       "    </tr>\n",
       "    <tr>\n",
       "      <th>1945</th>\n",
       "      <td>6/25/13</td>\n",
       "      <td>2013</td>\n",
       "      <td>16.7</td>\n",
       "      <td>False</td>\n",
       "      <td>0</td>\n",
       "      <td>10.0</td>\n",
       "      <td>46.0</td>\n",
       "      <td>46.0</td>\n",
       "      <td>4</td>\n",
       "      <td>13</td>\n",
       "      <td>6</td>\n",
       "    </tr>\n",
       "  </tbody>\n",
       "</table>\n",
       "<p>1946 rows × 11 columns</p>\n",
       "</div>"
      ],
      "text/plain": [
       "         Date  Year  Temp  ToBottom  ToBottomNum  TowLength  VolConc  \\\n",
       "0      6/2/94  1994  15.6     False            0        6.0     50.0   \n",
       "1      6/2/94  1994  18.0     False            0        6.0     50.0   \n",
       "2      6/7/94  1994  16.8     False            0        9.0     50.0   \n",
       "3      6/7/94  1994  19.1     False            0       13.0     50.0   \n",
       "4     6/15/94  1994  24.2     False            0        5.0     50.0   \n",
       "...       ...   ...   ...       ...          ...        ...      ...   \n",
       "1941  9/14/12  2012  19.0     False            0        2.0     98.0   \n",
       "1942  9/22/12  2012  19.9     False            0       10.0     49.0   \n",
       "1943  6/21/13  2013  16.6     False            0       10.0     46.0   \n",
       "1944  6/21/13  2013  16.4     False            0       10.0     47.0   \n",
       "1945  6/25/13  2013  16.7     False            0       10.0     46.0   \n",
       "\n",
       "      VolSubSample  TotalCount  Diameter  Density  \n",
       "0             50.0           1        13       13  \n",
       "1             50.0           3        13       38  \n",
       "2             50.0           3        13       25  \n",
       "3             50.0           3        13       17  \n",
       "4             50.0          12        13      181  \n",
       "...            ...         ...       ...      ...  \n",
       "1941           3.0           3        13      738  \n",
       "1942           3.0           8        13      197  \n",
       "1943           3.0          14        13      323  \n",
       "1944           3.0          71        13     1676  \n",
       "1945          46.0           4        13        6  \n",
       "\n",
       "[1946 rows x 11 columns]"
      ]
     },
     "execution_count": 31,
     "metadata": {},
     "output_type": "execute_result"
    }
   ],
   "source": [
    "dataset = pd.read_csv('Resources/collecting_zebra.csv')\n",
    "dataset"
   ]
  },
  {
   "cell_type": "code",
   "execution_count": 32,
   "metadata": {},
   "outputs": [
    {
     "name": "stdout",
     "output_type": "stream",
     "text": [
      "(1946, 1) (1946, 1)\n"
     ]
    }
   ],
   "source": [
    "X = dataset[\"Temp\"].values.reshape(-1,1)\n",
    "y = dataset[\"TotalCount\"].values.reshape(-1,1)\n",
    "print(X.shape, y.shape)"
   ]
  },
  {
   "cell_type": "code",
   "execution_count": 33,
   "metadata": {},
   "outputs": [],
   "source": [
    "from sklearn.model_selection import train_test_split\n",
    "X_train, X_test, y_train, y_test = train_test_split(X, y, test_size = 1/5, random_state = 0)"
   ]
  },
  {
   "cell_type": "code",
   "execution_count": 34,
   "metadata": {},
   "outputs": [
    {
     "data": {
      "text/plain": [
       "LinearRegression()"
      ]
     },
     "execution_count": 34,
     "metadata": {},
     "output_type": "execute_result"
    }
   ],
   "source": [
    "from sklearn.linear_model import LinearRegression\n",
    "model = LinearRegression()\n",
    "model.fit(X_train, y_train)"
   ]
  },
  {
   "cell_type": "code",
   "execution_count": 35,
   "metadata": {},
   "outputs": [],
   "source": [
    "y_pred = model.predict(X_test)"
   ]
  },
  {
   "cell_type": "code",
   "execution_count": 36,
   "metadata": {},
   "outputs": [
    {
     "data": {
      "image/png": "[encoded data removed]",
      "text/plain": [
       "<Figure size 432x288 with 1 Axes>"
      ]
     },
     "metadata": {
      "needs_background": "light"
     },
     "output_type": "display_data"
    }
   ],
   "source": [
    "plt.scatter(X_train, y_train, color = 'blue')\n",
    "plt.plot(X_train, regressor.predict(X_train), color = 'red')\n",
    "plt.title('Temp v Count of Zebra Mussels Collected(Training Data)')\n",
    "plt.xlabel('Temperature')\n",
    "plt.ylabel('Predictive Count')\n",
    "plt.show()"
   ]
  },
  {
   "cell_type": "code",
   "execution_count": 38,
   "metadata": {},
   "outputs": [
    {
     "data": {
      "image/png": "[encoded data removed]",
      "text/plain": [
       "<Figure size 432x288 with 1 Axes>"
      ]
     },
     "metadata": {
      "needs_background": "light"
     },
     "output_type": "display_data"
    }
   ],
   "source": [
    "plt.scatter(X_test, y_test, color = 'blue')\n",
    "plt.plot(X_train, regressor.predict(X_train), color = 'red')\n",
    "plt.title('Temp v Count of Zebra Mussels Collected(Test Data)')\n",
    "plt.xlabel('Temperature')\n",
    "plt.ylabel('Predictive Count')\n",
    "plt.show()"
   ]
  }
 ],
 "metadata": {
  "kernelspec": {
   "display_name": "Python 3",
   "language": "python",
   "name": "python3"
  },
  "language_info": {
   "codemirror_mode": {
    "name": "ipython",
    "version": 3
   },
   "file_extension": ".py",
   "mimetype": "text/x-python",
   "name": "python",
   "nbconvert_exporter": "python",
   "pygments_lexer": "ipython3",
   "version": "3.8.5"
  }
 },
 "nbformat": 4,
 "nbformat_minor": 4
}
